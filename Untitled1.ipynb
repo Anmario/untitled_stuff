{
 "cells": [
  {
   "cell_type": "code",
   "execution_count": 1,
   "id": "721aa476-6c2a-4017-83f8-2ec2011b1842",
   "metadata": {},
   "outputs": [],
   "source": [
    "import cv2 as cv"
   ]
  },
  {
   "cell_type": "code",
   "execution_count": 3,
   "id": "1d5bc3a1-7c95-4038-9e12-fcc68d1a1600",
   "metadata": {},
   "outputs": [],
   "source": [
    "capture= cv.VideoCapture(0)"
   ]
  },
  {
   "cell_type": "code",
   "execution_count": null,
   "id": "212c43a4-cb60-412f-9bb5-485424d5c176",
   "metadata": {},
   "outputs": [],
   "source": [
    "while True:\n",
    "    isTrue, frame=capture.read()\n",
    "    cv.imshow('video', frame)\n",
    "    if cv.waitKey(20) & 0xFF==ord('d'):\n",
    "        break\n",
    "        \n",
    "    capture.release()\n",
    "    cv.destroyAllWindows()"
   ]
  },
  {
   "cell_type": "code",
   "execution_count": 2,
   "id": "4b773f89-d673-41b6-af9a-88104c75e61d",
   "metadata": {},
   "outputs": [],
   "source": [
    "import numpy as anmar"
   ]
  },
  {
   "cell_type": "code",
   "execution_count": 4,
   "id": "9177fcd1-b894-44c8-93c4-fc4ae66a4874",
   "metadata": {},
   "outputs": [],
   "source": [
    "img= anmar.zeros((500,500), dtype='uint8')\n",
    "imgg= cv.imread('C:/Users/anmar/Dropbox/PC/Desktop/222560280_181615810681182_4109223943269448023_n.jpg')"
   ]
  },
  {
   "cell_type": "code",
   "execution_count": 4,
   "id": "8882b5ca-5969-4176-b91b-5cb4a9c8cb83",
   "metadata": {},
   "outputs": [
    {
     "data": {
      "text/plain": [
       "-1"
      ]
     },
     "execution_count": 4,
     "metadata": {},
     "output_type": "execute_result"
    }
   ],
   "source": [
    "cv.imshow('Image', img)\n",
    "cv.waitKey(0)"
   ]
  },
  {
   "cell_type": "code",
   "execution_count": 14,
   "id": "9b145de7-5026-42b4-a1c1-1fd59854d9a8",
   "metadata": {},
   "outputs": [
    {
     "data": {
      "text/plain": [
       "-1"
      ]
     },
     "execution_count": 14,
     "metadata": {},
     "output_type": "execute_result"
    }
   ],
   "source": [
    "blank = anmar.zeros((500,500,3), dtype='uint8')\n",
    "cv.imshow('Blank', blank)\n",
    "cv.waitKey(0)"
   ]
  },
  {
   "cell_type": "code",
   "execution_count": 15,
   "id": "c126a04a-6d2b-46b2-adb8-a7301ea87cc7",
   "metadata": {},
   "outputs": [
    {
     "data": {
      "text/plain": [
       "-1"
      ]
     },
     "execution_count": 15,
     "metadata": {},
     "output_type": "execute_result"
    }
   ],
   "source": [
    "blank[200:300, 300:400]=0,0,225\n",
    "cv.imshow('Blank', blank)\n",
    "cv.waitKey(0)\n"
   ]
  },
  {
   "cell_type": "code",
   "execution_count": 16,
   "id": "293123e0-61f9-47b3-b0c3-da54484ba3a3",
   "metadata": {},
   "outputs": [
    {
     "data": {
      "text/plain": [
       "-1"
      ]
     },
     "execution_count": 16,
     "metadata": {},
     "output_type": "execute_result"
    }
   ],
   "source": [
    "cv.rectangle(blank, (0,0), (blank.shape[1]//2, blank.shape[0]//2), (0,255,0), thickness=3)\n",
    "cv.imshow('Rectangle', blank)\n",
    "cv.waitKey(0)\n"
   ]
  },
  {
   "cell_type": "code",
   "execution_count": 21,
   "id": "7edc174c-885a-4385-93d5-1a092cf609db",
   "metadata": {},
   "outputs": [
    {
     "data": {
      "text/plain": [
       "-1"
      ]
     },
     "execution_count": 21,
     "metadata": {},
     "output_type": "execute_result"
    }
   ],
   "source": [
    "cv.circle(blank, (blank.shape[1]//2,blank.shape[0]//2), 100, (0,255,0), thickness=15)\n",
    "cv.imshow('Circle', blank)\n",
    "cv.waitKey(0)"
   ]
  },
  {
   "cell_type": "code",
   "execution_count": 1,
   "id": "d652ca7a-d729-4939-bfba-81e59d027b18",
   "metadata": {},
   "outputs": [
    {
     "ename": "NameError",
     "evalue": "name 'cv' is not defined",
     "output_type": "error",
     "traceback": [
      "\u001b[1;31m---------------------------------------------------------------------------\u001b[0m",
      "\u001b[1;31mNameError\u001b[0m                                 Traceback (most recent call last)",
      "Input \u001b[1;32mIn [1]\u001b[0m, in \u001b[0;36m<cell line: 1>\u001b[1;34m()\u001b[0m\n\u001b[1;32m----> 1\u001b[0m \u001b[43mcv\u001b[49m\u001b[38;5;241m.\u001b[39mline(blank, (\u001b[38;5;241m250\u001b[39m,\u001b[38;5;241m250\u001b[39m), (\u001b[38;5;241m300\u001b[39m,\u001b[38;5;241m400\u001b[39m), (\u001b[38;5;241m225\u001b[39m,\u001b[38;5;241m0\u001b[39m,\u001b[38;5;241m0\u001b[39m), thickness\u001b[38;5;241m=\u001b[39m\u001b[38;5;241m60\u001b[39m)\n\u001b[0;32m      2\u001b[0m cv\u001b[38;5;241m.\u001b[39mimshow(\u001b[38;5;124m'\u001b[39m\u001b[38;5;124mline\u001b[39m\u001b[38;5;124m'\u001b[39m, blank)\n\u001b[0;32m      3\u001b[0m cv\u001b[38;5;241m.\u001b[39mwaitKey(\u001b[38;5;241m0\u001b[39m)\n",
      "\u001b[1;31mNameError\u001b[0m: name 'cv' is not defined"
     ]
    }
   ],
   "source": [
    "cv.line(blank, (250,250), (300,400), (225,0,0), thickness=60)\n",
    "cv.imshow('line', blank)\n",
    "cv.waitKey(0)"
   ]
  },
  {
   "cell_type": "code",
   "execution_count": 5,
   "id": "b982a126-c8f5-4f62-ae56-3bfccb97f2aa",
   "metadata": {},
   "outputs": [
    {
     "data": {
      "text/plain": [
       "-1"
      ]
     },
     "execution_count": 5,
     "metadata": {},
     "output_type": "execute_result"
    }
   ],
   "source": [
    "gray= cv.cvtColor(imgg, cv.COLOR_BGR2GRAY)\n",
    "cv.imshow('GRAY', gray)\n",
    "BGR_from_GRAY=cv.cvtColor(gray, cv.COLOR_GRAY2BGR)\n",
    "cv.imshow('BGR_from_GRAY', BGR_from_GRAY)\n",
    "cv.waitKey(0)"
   ]
  },
  {
   "cell_type": "code",
   "execution_count": 39,
   "id": "1cd40146-e96f-47ce-a20d-cf0cda50ab47",
   "metadata": {},
   "outputs": [
    {
     "data": {
      "text/plain": [
       "-1"
      ]
     },
     "execution_count": 39,
     "metadata": {},
     "output_type": "execute_result"
    }
   ],
   "source": [
    "BLUR= cv.GaussianBlur(imgg, (9,9), cv.BORDER_DEFAULT)\n",
    "cv.imshow('IMGG', imgg)\n",
    "cv.imshow('BLUR', BLUR)\n",
    "cv.waitKey(0)"
   ]
  },
  {
   "cell_type": "code",
   "execution_count": 11,
   "id": "09b186c6-2d6a-4553-90eb-82c1e93f1fd2",
   "metadata": {},
   "outputs": [
    {
     "name": "stdout",
     "output_type": "stream",
     "text": [
      "(540, 947, 3)\n"
     ]
    },
    {
     "ename": "error",
     "evalue": "OpenCV(4.6.0) d:\\a\\opencv-python\\opencv-python\\opencv\\modules\\imgproc\\src\\color.simd_helpers.hpp:92: error: (-2:Unspecified error) in function '__cdecl cv::impl::`anonymous-namespace'::CvtHelper<struct cv::impl::`anonymous namespace'::Set<3,4,-1>,struct cv::impl::A0xf2302844::Set<3,4,-1>,struct cv::impl::A0xf2302844::Set<0,2,5>,2>::CvtHelper(const class cv::_InputArray &,const class cv::_OutputArray &,int)'\n> Invalid number of channels in input image:\n>     'VScn::contains(scn)'\n> where\n>     'scn' is 2\n",
     "output_type": "error",
     "traceback": [
      "\u001b[1;31m---------------------------------------------------------------------------\u001b[0m",
      "\u001b[1;31merror\u001b[0m                                     Traceback (most recent call last)",
      "Input \u001b[1;32mIn [11]\u001b[0m, in \u001b[0;36m<cell line: 4>\u001b[1;34m()\u001b[0m\n\u001b[0;32m      2\u001b[0m b,g,r\u001b[38;5;241m=\u001b[39mcv\u001b[38;5;241m.\u001b[39msplit(imgg)\n\u001b[0;32m      3\u001b[0m merged\u001b[38;5;241m=\u001b[39m cv\u001b[38;5;241m.\u001b[39mmerge([b,g])\n\u001b[1;32m----> 4\u001b[0m \u001b[43mcv\u001b[49m\u001b[38;5;241;43m.\u001b[39;49m\u001b[43mimshow\u001b[49m\u001b[43m(\u001b[49m\u001b[38;5;124;43m'\u001b[39;49m\u001b[38;5;124;43mimggg\u001b[39;49m\u001b[38;5;124;43m'\u001b[39;49m\u001b[43m,\u001b[49m\u001b[43m \u001b[49m\u001b[43mmerged\u001b[49m\u001b[43m)\u001b[49m\n\u001b[0;32m      6\u001b[0m cv\u001b[38;5;241m.\u001b[39mimshow(\u001b[38;5;124m'\u001b[39m\u001b[38;5;124mimgg\u001b[39m\u001b[38;5;124m'\u001b[39m, imgg)\n\u001b[0;32m      8\u001b[0m cv\u001b[38;5;241m.\u001b[39mwaitKey(\u001b[38;5;241m0\u001b[39m)\n",
      "\u001b[1;31merror\u001b[0m: OpenCV(4.6.0) d:\\a\\opencv-python\\opencv-python\\opencv\\modules\\imgproc\\src\\color.simd_helpers.hpp:92: error: (-2:Unspecified error) in function '__cdecl cv::impl::`anonymous-namespace'::CvtHelper<struct cv::impl::`anonymous namespace'::Set<3,4,-1>,struct cv::impl::A0xf2302844::Set<3,4,-1>,struct cv::impl::A0xf2302844::Set<0,2,5>,2>::CvtHelper(const class cv::_InputArray &,const class cv::_OutputArray &,int)'\n> Invalid number of channels in input image:\n>     'VScn::contains(scn)'\n> where\n>     'scn' is 2\n"
     ]
    }
   ],
   "source": [
    "print(imgg.shape)\n",
    "b,g,r=cv.split(imgg)\n",
    "merged= cv.merge([b,g])\n",
    "cv.imshow('imggg', merged)\n",
    "\n",
    "cv.imshow('imgg', imgg)\n",
    "\n",
    "cv.waitKey(0)"
   ]
  },
  {
   "cell_type": "code",
   "execution_count": 9,
   "id": "6971afc7-bbfd-40ca-880e-015876f56b18",
   "metadata": {},
   "outputs": [
    {
     "name": "stdout",
     "output_type": "stream",
     "text": [
      "5 rfg\n",
      "<class 'NoneType'>\n"
     ]
    }
   ],
   "source": [
    "\n",
    "print(type(print(5, 'rfg')))"
   ]
  },
  {
   "cell_type": "code",
   "execution_count": 40,
   "id": "debaa6f5-3d0e-47a0-b97f-6e89555b7aab",
   "metadata": {},
   "outputs": [
    {
     "data": {
      "text/plain": [
       "-1"
      ]
     },
     "execution_count": 40,
     "metadata": {},
     "output_type": "execute_result"
    }
   ],
   "source": [
    "CANNY= cv.Canny(BLUR, 300, 300)\n",
    "cv.imshow('Canny', CANNY)\n",
    "cv.waitKey(0)"
   ]
  },
  {
   "cell_type": "code",
   "execution_count": 20,
   "id": "a2f87393-e463-4e26-abf3-f3e7664eab90",
   "metadata": {},
   "outputs": [
    {
     "data": {
      "text/plain": [
       "-1"
      ]
     },
     "execution_count": 20,
     "metadata": {},
     "output_type": "execute_result"
    }
   ],
   "source": [
    "Dilate= cv.dilate(imgg, (3,3), iterations=3)\n",
    "cv.imshow('IMGG', imgg)\n",
    "cv.imshow('DILATE', Dilate)\n",
    "cv.waitKey(0)"
   ]
  },
  {
   "cell_type": "code",
   "execution_count": 26,
   "id": "bdae2c54-5377-4e8b-9b10-48751ba88bbf",
   "metadata": {},
   "outputs": [
    {
     "name": "stdout",
     "output_type": "stream",
     "text": [
      "(540, 947, 3)\n"
     ]
    }
   ],
   "source": [
    "print(imgg.shape[:])"
   ]
  },
  {
   "cell_type": "code",
   "execution_count": null,
   "id": "307d913f-220a-49ca-8150-2e71441f1e83",
   "metadata": {},
   "outputs": [
    {
     "data": {
      "text/plain": [
       "-1"
      ]
     },
     "execution_count": 20,
     "metadata": {},
     "output_type": "execute_result"
    }
   ],
   "source": [
    "def translate(img, x, y):\n",
    "    transMat= anmar.float32([[1,0,x],[0,1,y]])\n",
    "    (height,width) = img.shape[:2]\n",
    "    dimensions = (width,height)\n",
    "    return cv.warpAffine(img, transMat, dimensions)\n",
    "translated= translate(imgg, -100, 100)\n",
    "cv.imshow('Translation', translated)\n",
    "cv.waitKey(0)"
   ]
  },
  {
   "cell_type": "code",
   "execution_count": 43,
   "id": "f6cadd47-3e68-4f03-b707-b72232656d95",
   "metadata": {},
   "outputs": [
    {
     "name": "stdout",
     "output_type": "stream",
     "text": [
      "125.0\n"
     ]
    },
    {
     "data": {
      "text/plain": [
       "-1"
      ]
     },
     "execution_count": 43,
     "metadata": {},
     "output_type": "execute_result"
    }
   ],
   "source": [
    "gray = cv.cvtColor(imgg, cv.COLOR_BGR2GRAY)\n",
    "cv.imshow('Gray', gray)\n",
    "ret, thresh= cv.threshold(gray, 125, 255, cv.THRESH_BINARY)\n",
    "print(ret)\n",
    "cv.waitKey(0)"
   ]
  },
  {
   "cell_type": "code",
   "execution_count": 13,
   "id": "9d81f977-0121-4d0a-8228-132afcd6165d",
   "metadata": {},
   "outputs": [
    {
     "name": "stdin",
     "output_type": "stream",
     "text": [
      "Enter a string > anmar\n",
      "Enter a substring > an\n"
     ]
    },
    {
     "name": "stdout",
     "output_type": "stream",
     "text": [
      "the substring\"an\" appears 1 times in\"a\"\n"
     ]
    }
   ],
   "source": [
    "a=input('Enter a string >')\n",
    "b=input('Enter a substring >')\n",
    "print('the substring\"'+b+'\" appears '+str(a.count(b))+' times in'+'\"a\"')"
   ]
  },
  {
   "cell_type": "code",
   "execution_count": 18,
   "id": "47db97c8-af30-40cb-ac8e-a073114fc015",
   "metadata": {},
   "outputs": [
    {
     "data": {
      "text/plain": [
       "-1"
      ]
     },
     "execution_count": 18,
     "metadata": {},
     "output_type": "execute_result"
    }
   ],
   "source": [
    "translatedd= cv.warpAffine(imgg, anmar.float32([[1,0,50],[0,1,50]]), (imgg.shape[1],imgg.shape[0]))\n",
    "cv.imshow('tt', translatedd)\n",
    "cv.waitKey(0)"
   ]
  },
  {
   "cell_type": "code",
   "execution_count": 13,
   "id": "9cc881d6-e8dd-454b-9626-324f0755dabd",
   "metadata": {},
   "outputs": [
    {
     "data": {
      "text/plain": [
       "540"
      ]
     },
     "execution_count": 13,
     "metadata": {},
     "output_type": "execute_result"
    }
   ],
   "source": [
    "imgg.shape[0]"
   ]
  },
  {
   "cell_type": "code",
   "execution_count": 35,
   "id": "58d63e47-f925-42e1-9b1d-a97144834e01",
   "metadata": {},
   "outputs": [
    {
     "name": "stdin",
     "output_type": "stream",
     "text": [
      "Enter an integer > v\n"
     ]
    },
    {
     "ename": "ValueError",
     "evalue": "invalid literal for int() with base 10: 'v'",
     "output_type": "error",
     "traceback": [
      "\u001b[1;31m---------------------------------------------------------------------------\u001b[0m",
      "\u001b[1;31mValueError\u001b[0m                                Traceback (most recent call last)",
      "Input \u001b[1;32mIn [35]\u001b[0m, in \u001b[0;36m<cell line: 2>\u001b[1;34m()\u001b[0m\n\u001b[0;32m      1\u001b[0m \u001b[38;5;28;01mimport\u001b[39;00m \u001b[38;5;21;01mmath\u001b[39;00m\n\u001b[1;32m----> 2\u001b[0m my_int\u001b[38;5;241m=\u001b[39m\u001b[38;5;28;43mint\u001b[39;49m\u001b[43m(\u001b[49m\u001b[38;5;28;43minput\u001b[39;49m\u001b[43m(\u001b[49m\u001b[38;5;124;43m'\u001b[39;49m\u001b[38;5;124;43mEnter an integer >\u001b[39;49m\u001b[38;5;124;43m'\u001b[39;49m\u001b[43m)\u001b[49m\u001b[43m)\u001b[49m\n\u001b[0;32m      3\u001b[0m \u001b[38;5;28;01mif\u001b[39;00m my_int \u001b[38;5;241m>\u001b[39m\u001b[38;5;241m=\u001b[39m \u001b[38;5;241m0\u001b[39m:\n\u001b[0;32m      4\u001b[0m    my_factorial \u001b[38;5;241m=\u001b[39m math\u001b[38;5;241m.\u001b[39mfactorial(my_int)\n",
      "\u001b[1;31mValueError\u001b[0m: invalid literal for int() with base 10: 'v'"
     ]
    }
   ],
   "source": [
    "import math\n",
    "my_int=int(input('Enter an integer >'))\n",
    "if my_int >= 0:\n",
    "   my_factorial = math.factorial(my_int)\n",
    "print(my_factorial)"
   ]
  },
  {
   "cell_type": "code",
   "execution_count": 36,
   "id": "6b8728c4-2ff4-4e90-a103-bc936a448004",
   "metadata": {},
   "outputs": [
    {
     "name": "stdin",
     "output_type": "stream",
     "text": [
      "Enter an integer > -6\n"
     ]
    }
   ],
   "source": [
    "import math\n",
    "my_int=int(input('Enter an integer >'))\n",
    "if my_int >= 0:\n",
    "   my_factorial = math.factorial(my_int)\n",
    "   print(my_factorial)"
   ]
  },
  {
   "cell_type": "code",
   "execution_count": 81,
   "id": "5f332cc8-785c-4dd9-b480-34063ec0acf0",
   "metadata": {},
   "outputs": [
    {
     "name": "stdin",
     "output_type": "stream",
     "text": [
      "Enter a non-negative integer > -45\n"
     ]
    },
    {
     "name": "stdout",
     "output_type": "stream",
     "text": [
      "-45  is not a non-negative integer\n"
     ]
    }
   ],
   "source": [
    "my_number= input('Enter a non-negative integer >')\n",
    "if my_number.isdecimal():\n",
    "    double_it= int(my_number)*2\n",
    "    print(my_number,'* 2 is ',double_it)\n",
    "else:\n",
    "    print(my_number,' is not a non-negative integer')"
   ]
  },
  {
   "cell_type": "code",
   "execution_count": 79,
   "id": "e001193c-04de-458b-aced-fff6ff273539",
   "metadata": {},
   "outputs": [
    {
     "name": "stdin",
     "output_type": "stream",
     "text": [
      "Enter a non-negative integer > -45\n"
     ]
    }
   ],
   "source": [
    "my_number= input('Enter a non-negative integer >')\n",
    "if my_number.isdecimal():\n",
    "    my_number= my_number\n",
    "    print(my_number)"
   ]
  },
  {
   "cell_type": "code",
   "execution_count": null,
   "id": "5f964834-51a6-49ff-93c2-8cb4e63b6974",
   "metadata": {},
   "outputs": [],
   "source": []
  }
 ],
 "metadata": {
  "kernelspec": {
   "display_name": "Python 3 (ipykernel)",
   "language": "python",
   "name": "python3"
  },
  "language_info": {
   "codemirror_mode": {
    "name": "ipython",
    "version": 3
   },
   "file_extension": ".py",
   "mimetype": "text/x-python",
   "name": "python",
   "nbconvert_exporter": "python",
   "pygments_lexer": "ipython3",
   "version": "3.9.12"
  }
 },
 "nbformat": 4,
 "nbformat_minor": 5
}
